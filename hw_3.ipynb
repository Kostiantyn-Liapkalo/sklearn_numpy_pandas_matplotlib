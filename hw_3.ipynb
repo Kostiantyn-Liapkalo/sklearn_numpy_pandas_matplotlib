{
 "cells": [
  {
   "cell_type": "code",
   "execution_count": 14,
   "id": "initial_id",
   "metadata": {
    "collapsed": true,
    "ExecuteTime": {
     "end_time": "2023-08-29T01:02:08.321185434Z",
     "start_time": "2023-08-29T01:02:08.266062657Z"
    }
   },
   "outputs": [
    {
     "ename": "ModuleNotFoundError",
     "evalue": "No module named 'sklearn'",
     "output_type": "error",
     "traceback": [
      "\u001B[0;31m---------------------------------------------------------------------------\u001B[0m",
      "\u001B[0;31mModuleNotFoundError\u001B[0m                       Traceback (most recent call last)",
      "Cell \u001B[0;32mIn[14], line 4\u001B[0m\n\u001B[1;32m      2\u001B[0m \u001B[38;5;28;01mimport\u001B[39;00m \u001B[38;5;21;01mpandas\u001B[39;00m \u001B[38;5;28;01mas\u001B[39;00m \u001B[38;5;21;01mpd\u001B[39;00m\n\u001B[1;32m      3\u001B[0m \u001B[38;5;28;01mimport\u001B[39;00m \u001B[38;5;21;01mmatplotlib\u001B[39;00m\u001B[38;5;21;01m.\u001B[39;00m\u001B[38;5;21;01mpyplot\u001B[39;00m \u001B[38;5;28;01mas\u001B[39;00m \u001B[38;5;21;01mplt\u001B[39;00m\n\u001B[0;32m----> 4\u001B[0m \u001B[38;5;28;01mfrom\u001B[39;00m \u001B[38;5;21;01msklearn\u001B[39;00m\u001B[38;5;21;01m.\u001B[39;00m\u001B[38;5;21;01mlinear_model\u001B[39;00m \u001B[38;5;28;01mimport\u001B[39;00m LinearRegression\n\u001B[1;32m      5\u001B[0m \u001B[38;5;28;01mfrom\u001B[39;00m \u001B[38;5;21;01msklearn\u001B[39;00m\u001B[38;5;21;01m.\u001B[39;00m\u001B[38;5;21;01mmetrics\u001B[39;00m \u001B[38;5;28;01mimport\u001B[39;00m mean_squared_error\n",
      "\u001B[0;31mModuleNotFoundError\u001B[0m: No module named 'sklearn'"
     ]
    }
   ],
   "source": [
    "import numpy as np\n",
    "import pandas as pd\n",
    "import matplotlib.pyplot as plt\n",
    "from sklearn.linear_model import LinearRegression\n",
    "from sklearn.metrics import mean_squared_error"
   ]
  },
  {
   "cell_type": "code",
   "execution_count": 2,
   "outputs": [],
   "source": [
    "# напишіть функцію гіпотези лінійної регресії у векторному вигляді\n",
    "def hipotes_func(w, X):\n",
    "    h = np.dot(X, w)\n",
    "    return h"
   ],
   "metadata": {
    "collapsed": false,
    "ExecuteTime": {
     "end_time": "2023-08-29T00:23:33.492486485Z",
     "start_time": "2023-08-29T00:23:33.425577358Z"
    }
   },
   "id": "72079849c43e534b"
  },
  {
   "cell_type": "code",
   "execution_count": 3,
   "outputs": [],
   "source": [
    "# створіть функцію для обчислення функції втрат у векторному вигляді\n",
    "def loss_func(w, X, y):\n",
    "    m = len(y)\n",
    "    h = hipotes_func(w, X)\n",
    "    error = h -y\n",
    "    mse = np.sum(error ** 2) / (2 * m)\n",
    "    return mse"
   ],
   "metadata": {
    "collapsed": false,
    "ExecuteTime": {
     "end_time": "2023-08-29T00:28:22.373984390Z",
     "start_time": "2023-08-29T00:28:22.298802263Z"
    }
   },
   "id": "979b25c8713846ad"
  },
  {
   "cell_type": "code",
   "execution_count": 4,
   "outputs": [],
   "source": [
    "# реалізуйте один крок градієнтного спуску\n",
    "def step_gradient(w, X, y, learning_rate):\n",
    "    m =len(y)\n",
    "    h = hipotes_func(w, X)\n",
    "    error = h - y\n",
    "    gradient = np.dot(X.T, error) / m\n",
    "    w = w - learning_rate * gradient\n",
    "    return w"
   ],
   "metadata": {
    "collapsed": false,
    "ExecuteTime": {
     "end_time": "2023-08-29T00:32:47.095387384Z",
     "start_time": "2023-08-29T00:32:46.908895942Z"
    }
   },
   "id": "9e4ccf8c6bde1ec1"
  },
  {
   "cell_type": "code",
   "execution_count": 5,
   "outputs": [
    {
     "data": {
      "text/plain": "      price  area  bedrooms  bathrooms  stories mainroad guestroom basement  \\\n0  13300000  7420         4          2        3      yes        no       no   \n1  12250000  8960         4          4        4      yes        no       no   \n2  12250000  9960         3          2        2      yes        no      yes   \n3  12215000  7500         4          2        2      yes        no      yes   \n4  11410000  7420         4          1        2      yes       yes      yes   \n\n  hotwaterheating airconditioning  parking prefarea furnishingstatus  \n0              no             yes        2      yes        furnished  \n1              no             yes        3       no        furnished  \n2              no              no        2      yes   semi-furnished  \n3              no             yes        3      yes        furnished  \n4              no             yes        2       no        furnished  ",
      "text/html": "<div>\n<style scoped>\n    .dataframe tbody tr th:only-of-type {\n        vertical-align: middle;\n    }\n\n    .dataframe tbody tr th {\n        vertical-align: top;\n    }\n\n    .dataframe thead th {\n        text-align: right;\n    }\n</style>\n<table border=\"1\" class=\"dataframe\">\n  <thead>\n    <tr style=\"text-align: right;\">\n      <th></th>\n      <th>price</th>\n      <th>area</th>\n      <th>bedrooms</th>\n      <th>bathrooms</th>\n      <th>stories</th>\n      <th>mainroad</th>\n      <th>guestroom</th>\n      <th>basement</th>\n      <th>hotwaterheating</th>\n      <th>airconditioning</th>\n      <th>parking</th>\n      <th>prefarea</th>\n      <th>furnishingstatus</th>\n    </tr>\n  </thead>\n  <tbody>\n    <tr>\n      <th>0</th>\n      <td>13300000</td>\n      <td>7420</td>\n      <td>4</td>\n      <td>2</td>\n      <td>3</td>\n      <td>yes</td>\n      <td>no</td>\n      <td>no</td>\n      <td>no</td>\n      <td>yes</td>\n      <td>2</td>\n      <td>yes</td>\n      <td>furnished</td>\n    </tr>\n    <tr>\n      <th>1</th>\n      <td>12250000</td>\n      <td>8960</td>\n      <td>4</td>\n      <td>4</td>\n      <td>4</td>\n      <td>yes</td>\n      <td>no</td>\n      <td>no</td>\n      <td>no</td>\n      <td>yes</td>\n      <td>3</td>\n      <td>no</td>\n      <td>furnished</td>\n    </tr>\n    <tr>\n      <th>2</th>\n      <td>12250000</td>\n      <td>9960</td>\n      <td>3</td>\n      <td>2</td>\n      <td>2</td>\n      <td>yes</td>\n      <td>no</td>\n      <td>yes</td>\n      <td>no</td>\n      <td>no</td>\n      <td>2</td>\n      <td>yes</td>\n      <td>semi-furnished</td>\n    </tr>\n    <tr>\n      <th>3</th>\n      <td>12215000</td>\n      <td>7500</td>\n      <td>4</td>\n      <td>2</td>\n      <td>2</td>\n      <td>yes</td>\n      <td>no</td>\n      <td>yes</td>\n      <td>no</td>\n      <td>yes</td>\n      <td>3</td>\n      <td>yes</td>\n      <td>furnished</td>\n    </tr>\n    <tr>\n      <th>4</th>\n      <td>11410000</td>\n      <td>7420</td>\n      <td>4</td>\n      <td>1</td>\n      <td>2</td>\n      <td>yes</td>\n      <td>yes</td>\n      <td>yes</td>\n      <td>no</td>\n      <td>yes</td>\n      <td>2</td>\n      <td>no</td>\n      <td>furnished</td>\n    </tr>\n  </tbody>\n</table>\n</div>"
     },
     "execution_count": 5,
     "metadata": {},
     "output_type": "execute_result"
    }
   ],
   "source": [
    "# знайдіть найкращі параметри для датасету прогнозуючу ціну на будинок залежно від площі, кількості ванних кімнат та кількості спалень\n",
    "df = pd.read_csv(\"./Housing.csv\")\n",
    "df.head()"
   ],
   "metadata": {
    "collapsed": false,
    "ExecuteTime": {
     "end_time": "2023-08-29T00:33:50.070648395Z",
     "start_time": "2023-08-29T00:33:49.913685347Z"
    }
   },
   "id": "4f20f9a47a06423"
  },
  {
   "cell_type": "code",
   "execution_count": 12,
   "outputs": [
    {
     "ename": "NameError",
     "evalue": "name 'LinearRegression' is not defined",
     "output_type": "error",
     "traceback": [
      "\u001B[0;31m---------------------------------------------------------------------------\u001B[0m",
      "\u001B[0;31mNameError\u001B[0m                                 Traceback (most recent call last)",
      "Cell \u001B[0;32mIn[12], line 7\u001B[0m\n\u001B[1;32m      4\u001B[0m X \u001B[38;5;241m=\u001B[39m df[features]\n\u001B[1;32m      5\u001B[0m y \u001B[38;5;241m=\u001B[39m df[target]\n\u001B[0;32m----> 7\u001B[0m regressor \u001B[38;5;241m=\u001B[39m \u001B[43mLinearRegression\u001B[49m()\n\u001B[1;32m      8\u001B[0m regressor\u001B[38;5;241m.\u001B[39mfit(X, y)\n\u001B[1;32m      9\u001B[0m estimation \u001B[38;5;241m=\u001B[39m regressor\u001B[38;5;241m.\u001B[39mpredict(X)\n",
      "\u001B[0;31mNameError\u001B[0m: name 'LinearRegression' is not defined"
     ]
    }
   ],
   "source": [
    "# знайдіть ці ж параметри за допомогою аналітичного рішення\n",
    "features = ['area', 'bathrooms', 'bedrooms',]\n",
    "target = 'price'\n",
    "X = df[features]\n",
    "y = df[target]\n",
    "\n",
    "regressor = LinearRegression()\n",
    "regressor.fit(X, y)\n",
    "estimation = regressor.predict(X)\n",
    "\n",
    "plt.scatter(X['area'], y, color='blue', label='Actual')\n",
    "plt.scatter(X['area'], estimation, color='red', label='Predicted')\n",
    "plt.xlabel('Area')\n",
    "plt.ylabel('Price')\n",
    "plt.title('Actual and Predicted')\n",
    "plt.legend()\n",
    "plt.show()\n",
    "\n",
    "print(f\"Intercept from sklearn: {np.round(regressor.intercept_, 2)}\")\n",
    "print(f\"Coefficients from sklearn: {np.round(regressor.coef_, 2)}\")\n",
    "\n",
    "mse = np.round(mean_squared_error(y, estimation), 4)\n",
    "print(f\"MSE: {mse}\")"
   ],
   "metadata": {
    "collapsed": false,
    "ExecuteTime": {
     "end_time": "2023-08-29T01:00:41.694171874Z",
     "start_time": "2023-08-29T01:00:41.616735607Z"
    }
   },
   "id": "2ba20db3f1cf0af1"
  },
  {
   "cell_type": "code",
   "execution_count": 11,
   "outputs": [
    {
     "name": "stdout",
     "output_type": "stream",
     "text": [
      "Intercept from normal equation: -173171.61\n",
      "Coefficients from normal equation: [3.7876000e+02 1.3860495e+06 4.0682003e+05]\n"
     ]
    }
   ],
   "source": [
    "# порівняйте отримані результати\n",
    "X = np.c_[np.ones(X.shape[0]), X]\n",
    "w = np.round(np.linalg.inv(X.T.dot(X)).dot(X.T).dot(y), decimals=2)\n",
    "\n",
    "print(f\"Intercept from normal equation: {w[0]}\")\n",
    "print(f\"Coefficients from normal equation: {w[1:]}\")"
   ],
   "metadata": {
    "collapsed": false,
    "ExecuteTime": {
     "end_time": "2023-08-29T00:59:07.736229526Z",
     "start_time": "2023-08-29T00:59:07.474653990Z"
    }
   },
   "id": "a3258dae6f9e8b7d"
  },
  {
   "cell_type": "code",
   "execution_count": null,
   "outputs": [],
   "source": [],
   "metadata": {
    "collapsed": false
   },
   "id": "5def808d76b30039"
  }
 ],
 "metadata": {
  "kernelspec": {
   "display_name": "Python 3",
   "language": "python",
   "name": "python3"
  },
  "language_info": {
   "codemirror_mode": {
    "name": "ipython",
    "version": 2
   },
   "file_extension": ".py",
   "mimetype": "text/x-python",
   "name": "python",
   "nbconvert_exporter": "python",
   "pygments_lexer": "ipython2",
   "version": "2.7.6"
  }
 },
 "nbformat": 4,
 "nbformat_minor": 5
}
